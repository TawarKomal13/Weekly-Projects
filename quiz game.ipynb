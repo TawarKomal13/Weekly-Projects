{
 "cells": [
  {
   "cell_type": "code",
   "execution_count": 2,
   "id": "fb126304",
   "metadata": {},
   "outputs": [
    {
     "name": "stdout",
     "output_type": "stream",
     "text": [
      "Welcome to my computer quiz!\n",
      "Do you want to play? yes\n",
      "Okay! Let's play :)\n",
      "What does CPU stand for? 1\n",
      "Incorrect!\n",
      "What does GPU stand for? 1\n",
      "Incorrect!\n",
      "What does RAM stand for? 1\n",
      "Incorrect!\n",
      "What does PSU stand for? 1\n",
      "Incorrect!\n",
      "You got 0 questions correct!\n",
      "You got 0.0%.\n"
     ]
    }
   ],
   "source": [
    "print(\"Welcome to my computer quiz!\")\n",
    "\n",
    "playing = input(\"Do you want to play? \")\n",
    "\n",
    "if playing.lower() != \"yes\":\n",
    "    quit()\n",
    "\n",
    "print(\"Okay! Let's play :)\")\n",
    "score = 0\n",
    "\n",
    "answer = input(\"What does CPU stand for? \")\n",
    "if answer.lower() == \"central processing unit\":\n",
    "    print('Correct!')\n",
    "    score += 1\n",
    "else:\n",
    "    print(\"Incorrect!\")\n",
    "yes\n",
    "1\n",
    "\n",
    "answer = input(\"What does GPU stand for? \")\n",
    "if answer.lower() == \"graphics processing unit\":\n",
    "    print('Correct!')\n",
    "    score += 1\n",
    "else:\n",
    "    print(\"Incorrect!\")\n",
    "\n",
    "answer = input(\"What does RAM stand for? \")\n",
    "if answer.lower() == \"random access memory\":\n",
    "    print('Correct!')\n",
    "    score += 1\n",
    "else:\n",
    "    print(\"Incorrect!\")\n",
    "\n",
    "answer = input(\"What does PSU stand for? \")\n",
    "if answer.lower() == \"power supply\":\n",
    "    print('Correct!')\n",
    "    score += 1\n",
    "else:\n",
    "    print(\"Incorrect!\")\n",
    "\n",
    "print(\"You got \" + str(score) + \" questions correct!\")\n",
    "print(\"You got \" + str((score / 4) * 100) + \"%.\")"
   ]
  },
  {
   "cell_type": "code",
   "execution_count": null,
   "id": "122c0dbf",
   "metadata": {},
   "outputs": [],
   "source": []
  }
 ],
 "metadata": {
  "kernelspec": {
   "display_name": "Python 3 (ipykernel)",
   "language": "python",
   "name": "python3"
  },
  "language_info": {
   "codemirror_mode": {
    "name": "ipython",
    "version": 3
   },
   "file_extension": ".py",
   "mimetype": "text/x-python",
   "name": "python",
   "nbconvert_exporter": "python",
   "pygments_lexer": "ipython3",
   "version": "3.9.13"
  }
 },
 "nbformat": 4,
 "nbformat_minor": 5
}
